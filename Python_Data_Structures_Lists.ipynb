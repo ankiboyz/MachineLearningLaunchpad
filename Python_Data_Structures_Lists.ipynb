{
  "nbformat": 4,
  "nbformat_minor": 0,
  "metadata": {
    "colab": {
      "name": "Python_Data Structures_Lists.ipynb",
      "provenance": [],
      "authorship_tag": "ABX9TyOLcBDgRI7bmg6id93pX+/W",
      "include_colab_link": true
    },
    "kernelspec": {
      "name": "python3",
      "display_name": "Python 3"
    },
    "language_info": {
      "name": "python"
    }
  },
  "cells": [
    {
      "cell_type": "markdown",
      "metadata": {
        "id": "view-in-github",
        "colab_type": "text"
      },
      "source": [
        "<a href=\"https://colab.research.google.com/github/ankiboyz/MachineLearningLaunchpad/blob/main/Python_Data_Structures_Lists.ipynb\" target=\"_parent\"><img src=\"https://colab.research.google.com/assets/colab-badge.svg\" alt=\"Open In Colab\"/></a>"
      ]
    },
    {
      "cell_type": "markdown",
      "source": [
        "# A pattern challenge to consolidate the understanding of the various lists."
      ],
      "metadata": {
        "id": "Fusbuz48LBXx"
      }
    },
    {
      "cell_type": "code",
      "execution_count": null,
      "metadata": {
        "id": "5S1Hz-6Ql1qF"
      },
      "outputs": [],
      "source": [
        "def a_new_pattern(odd_num):\n",
        "\n",
        "    # odd_num = 5\n",
        "    copy_fig_for_rest_half_list = []\n",
        "    list_prev = [odd_num]*odd_num\n",
        "    for i in range(0,(odd_num//2)+1):\n",
        "      # print(test[0:-odd_num+i], test[-odd_num+i:odd_num-i], test[-odd_num:i])\n",
        "      # list_new = list_prev[0:-odd_num+i] + [odd_num-i for k in list_prev[-odd_num+i:odd_num-i]] + list(reversed(list_prev[-1:-i-1:-1]))\n",
        "      # list_new = list_prev[0:-odd_num+i] + [odd_num-i for k in list_prev[-odd_num+i:odd_num-i]] + (list_prev[odd_num-1:(odd_num-1)-i:-1])\n",
        "      list_new = list_prev[0:-odd_num+i] + [odd_num-i for k in list_prev[-odd_num+i:odd_num-i]] + (list_prev[(odd_num)-i:])\n",
        "\n",
        "      copy_fig_for_rest_half_list.append(list_new)  \n",
        "      # print('list_new', list_new)\n",
        "      [print(x,end=' ') for x in list_new]\n",
        "      print('', end='\\n')\n",
        "\n",
        "      list_prev = list_new\n",
        "      # print('list_prev', list_prev)\n",
        "    inverted_second_half_list = list(reversed(copy_fig_for_rest_half_list[0:-1])) # excluding the last item as it is middle most , n not 2 b repeated.\n",
        "    for list_item in inverted_second_half_list:\n",
        "      [print(x,end=' ') for x in list_item]\n",
        "      print('')   \n",
        "      "
      ]
    },
    {
      "cell_type": "code",
      "source": [
        "a_new_pattern(5)"
      ],
      "metadata": {
        "colab": {
          "base_uri": "https://localhost:8080/"
        },
        "id": "QG0DwYofmEpC",
        "outputId": "fb09e65d-c7af-4e03-b324-38acaec6030d"
      },
      "execution_count": null,
      "outputs": [
        {
          "output_type": "stream",
          "name": "stdout",
          "text": [
            "5 5 5 5 5 \n",
            "5 4 4 4 5 \n",
            "5 4 3 4 5 \n",
            "5 4 4 4 5 \n",
            "5 5 5 5 5 \n"
          ]
        }
      ]
    },
    {
      "cell_type": "code",
      "source": [
        ""
      ],
      "metadata": {
        "id": "sBuYbRM2mMSY"
      },
      "execution_count": null,
      "outputs": []
    }
  ]
}