{
  "nbformat": 4,
  "nbformat_minor": 0,
  "metadata": {
    "colab": {
      "name": "Python_Data Structures_Lists.ipynb",
      "provenance": [],
      "authorship_tag": "ABX9TyMcuHSqftuChWClyYLURN5i",
      "include_colab_link": true
    },
    "kernelspec": {
      "name": "python3",
      "display_name": "Python 3"
    },
    "language_info": {
      "name": "python"
    }
  },
  "cells": [
    {
      "cell_type": "markdown",
      "metadata": {
        "id": "view-in-github",
        "colab_type": "text"
      },
      "source": [
        "<a href=\"https://colab.research.google.com/github/ankiboyz/MachineLearningLaunchpad/blob/main/Python_Data_Structures_Lists.ipynb\" target=\"_parent\"><img src=\"https://colab.research.google.com/assets/colab-badge.svg\" alt=\"Open In Colab\"/></a>"
      ]
    },
    {
      "cell_type": "markdown",
      "source": [
        "# This repository is all about questions on most prominent data structures in Python. These are put here to provide a swift transition to Hands On Machine Learning using Python."
      ],
      "metadata": {
        "id": "DQW-ex8ooivo"
      }
    },
    {
      "cell_type": "markdown",
      "source": [
        "## Q1. Replace with Cube:\n",
        "Complete the function replace_cube(), which takes a list and a value N; as inputs and updates every element that is in a position which is a multiple of N, with a number that is the cube of the existing number, in the list and returns the newly updated list.\n",
        "\n",
        "Note: Here while operating with N, it should be considered that if we say that an element is at index i then its position is (i+1)th. For example, an element at index 1 is actually in the second position."
      ],
      "metadata": {
        "id": "7555hOBVqdJY"
      }
    },
    {
      "cell_type": "markdown",
      "source": [
        "### Solution 1 to \"Replace with Cube\": Please look at the solution only once you have attempted it at your end."
      ],
      "metadata": {
        "id": "N50cKjK6sOCL"
      }
    },
    {
      "cell_type": "code",
      "source": [
        "def replace_cube(arr, N):\n",
        "    '''\n",
        "    input:\n",
        "    arr -> list of the input numbers\n",
        "    N -> value of N as mentioned in the question\n",
        "    \n",
        "    output:\n",
        "    res_list -> resultant list formed after doing the required computation as mentioned in the question\n",
        "    '''\n",
        "    res_list = None\n",
        "    # Your code starts here\n",
        "    # We can also attempt it simply using the List comprehension.\n",
        "    res_list = [item**3 if item%N == 0 else item for item in arr]    \n",
        "    \n",
        "    # Your code ends here\n",
        "    return res_list"
      ],
      "metadata": {
        "id": "vgKm3SVkqcLx"
      },
      "execution_count": 2,
      "outputs": []
    },
    {
      "cell_type": "code",
      "source": [
        "# Test Case 1\n",
        "arr = [1,2,3,4,5,6,7,8,9]\n",
        "N = 2\n",
        "replace_cube(arr, N)"
      ],
      "metadata": {
        "id": "3lgvWPJ2s-Kf",
        "outputId": "f8891a30-bf70-4a6d-ebd2-1f1271a14dea",
        "colab": {
          "base_uri": "https://localhost:8080/"
        }
      },
      "execution_count": 3,
      "outputs": [
        {
          "output_type": "execute_result",
          "data": {
            "text/plain": [
              "[1, 8, 3, 64, 5, 216, 7, 512, 9]"
            ]
          },
          "metadata": {},
          "execution_count": 3
        }
      ]
    },
    {
      "cell_type": "markdown",
      "source": [
        "# A pattern challenge to consolidate the understanding of the various lists."
      ],
      "metadata": {
        "id": "Fusbuz48LBXx"
      }
    },
    {
      "cell_type": "code",
      "execution_count": null,
      "metadata": {
        "id": "5S1Hz-6Ql1qF"
      },
      "outputs": [],
      "source": [
        "def a_new_pattern(odd_num):\n",
        "\n",
        "    # odd_num = 5\n",
        "    copy_fig_for_rest_half_list = []\n",
        "    list_prev = [odd_num]*odd_num\n",
        "    for i in range(0,(odd_num//2)+1):\n",
        "      # print(test[0:-odd_num+i], test[-odd_num+i:odd_num-i], test[-odd_num:i])\n",
        "      # list_new = list_prev[0:-odd_num+i] + [odd_num-i for k in list_prev[-odd_num+i:odd_num-i]] + list(reversed(list_prev[-1:-i-1:-1]))\n",
        "      # list_new = list_prev[0:-odd_num+i] + [odd_num-i for k in list_prev[-odd_num+i:odd_num-i]] + (list_prev[odd_num-1:(odd_num-1)-i:-1])\n",
        "      list_new = list_prev[0:-odd_num+i] + [odd_num-i for k in list_prev[-odd_num+i:odd_num-i]] + (list_prev[(odd_num)-i:])\n",
        "\n",
        "      copy_fig_for_rest_half_list.append(list_new)  \n",
        "      # print('list_new', list_new)\n",
        "      [print(x,end=' ') for x in list_new]\n",
        "      print('', end='\\n')\n",
        "\n",
        "      list_prev = list_new\n",
        "      # print('list_prev', list_prev)\n",
        "    inverted_second_half_list = list(reversed(copy_fig_for_rest_half_list[0:-1])) # excluding the last item as it is middle most , n not 2 b repeated.\n",
        "    for list_item in inverted_second_half_list:\n",
        "      [print(x,end=' ') for x in list_item]\n",
        "      print('')   \n",
        "      "
      ]
    },
    {
      "cell_type": "code",
      "source": [
        "a_new_pattern(5)"
      ],
      "metadata": {
        "colab": {
          "base_uri": "https://localhost:8080/"
        },
        "id": "QG0DwYofmEpC",
        "outputId": "fb09e65d-c7af-4e03-b324-38acaec6030d"
      },
      "execution_count": null,
      "outputs": [
        {
          "output_type": "stream",
          "name": "stdout",
          "text": [
            "5 5 5 5 5 \n",
            "5 4 4 4 5 \n",
            "5 4 3 4 5 \n",
            "5 4 4 4 5 \n",
            "5 5 5 5 5 \n"
          ]
        }
      ]
    },
    {
      "cell_type": "code",
      "source": [
        ""
      ],
      "metadata": {
        "id": "sBuYbRM2mMSY"
      },
      "execution_count": null,
      "outputs": []
    }
  ]
}