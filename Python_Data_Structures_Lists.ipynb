{
  "nbformat": 4,
  "nbformat_minor": 0,
  "metadata": {
    "colab": {
      "name": "Python_Data Structures_Lists.ipynb",
      "provenance": [],
      "toc_visible": true,
      "authorship_tag": "ABX9TyOLrokbQTAlB1xjkNAJIxpp",
      "include_colab_link": true
    },
    "kernelspec": {
      "name": "python3",
      "display_name": "Python 3"
    },
    "language_info": {
      "name": "python"
    }
  },
  "cells": [
    {
      "cell_type": "markdown",
      "metadata": {
        "id": "view-in-github",
        "colab_type": "text"
      },
      "source": [
        "<a href=\"https://colab.research.google.com/github/ankiboyz/MachineLearningLaunchpad/blob/main/Python_Data_Structures_Lists.ipynb\" target=\"_parent\"><img src=\"https://colab.research.google.com/assets/colab-badge.svg\" alt=\"Open In Colab\"/></a>"
      ]
    },
    {
      "cell_type": "markdown",
      "source": [
        "# This repository is all about questions on most prominent data structures in Python. These are put here to provide a swift transition to Hands On Machine Learning using Python.\n",
        "\n",
        "\n",
        "---\n",
        "Author: **Ankur Saxena**\n",
        "\n",
        "You Tube:\n",
        "Linked In:\n",
        "Facebook Group:\n"
      ],
      "metadata": {
        "id": "DQW-ex8ooivo"
      }
    },
    {
      "cell_type": "markdown",
      "source": [
        "# Some codes of Honor:\n",
        "1. Please look into the solution only once you have attempted the question at your end.\n",
        "2. These questions are amalgamation of innumerous hours of self practice put into becoming a great data scientist.The idea here is to share with you the same to help in your journey to greatness; kindly do give these an honest try and look for various ways in which the solution can be made more efficient (time/space complexity wise and/or improvement in the best case / worst case scenarios)"
      ],
      "metadata": {
        "id": "QE9g7indCX8U"
      }
    },
    {
      "cell_type": "markdown",
      "source": [
        "## Q1. Replace with Cube:\n",
        "Complete the function replace_cube(), which takes a list and a value N; as inputs and updates every element that is in a position which is a multiple of N, with a number that is the cube of the existing number, in the list and returns the newly updated list.\n",
        "\n",
        "Note: Here while operating with N, it should be considered that if we say that an element is at index i then its position is (i+1)th. For example, an element at index 1 is actually in the second position."
      ],
      "metadata": {
        "id": "7555hOBVqdJY"
      }
    },
    {
      "cell_type": "markdown",
      "source": [
        "### Solution(Way#1) to \"Replace with Cube\": Please look at the solution only once you have attempted it at your end."
      ],
      "metadata": {
        "id": "N50cKjK6sOCL"
      }
    },
    {
      "cell_type": "code",
      "source": [
        "def replace_cube(arr, N):\n",
        "    '''\n",
        "    input:\n",
        "    arr -> list of the input numbers\n",
        "    N -> value of N as mentioned in the question\n",
        "    \n",
        "    output:\n",
        "    res_list -> resultant list formed after doing the required computation as mentioned in the question\n",
        "    '''\n",
        "    res_list = None\n",
        "    # Your code starts here\n",
        "    # We can also attempt it simply using the List comprehension.\n",
        "    res_list = [item**3 if (index+1)%N == 0 else item for index,item in enumerate(arr)]    # Please note position=index+1; index 1 means position 2nd\n",
        "    \n",
        "    # Your code ends here\n",
        "    return res_list"
      ],
      "metadata": {
        "id": "vgKm3SVkqcLx"
      },
      "execution_count": 6,
      "outputs": []
    },
    {
      "cell_type": "code",
      "source": [
        "# Test Case 1\n",
        "arr = [1,2,3,4,5,6,7,8,9]\n",
        "N = 2\n",
        "replace_cube(arr, N)"
      ],
      "metadata": {
        "colab": {
          "base_uri": "https://localhost:8080/"
        },
        "id": "3lgvWPJ2s-Kf",
        "outputId": "7f1a0d69-79f8-4d80-c703-bd30d58cd361"
      },
      "execution_count": 7,
      "outputs": [
        {
          "output_type": "execute_result",
          "data": {
            "text/plain": [
              "[1, 8, 3, 64, 5, 216, 7, 512, 9]"
            ]
          },
          "metadata": {},
          "execution_count": 7
        }
      ]
    },
    {
      "cell_type": "markdown",
      "source": [
        "## **Q2. Flatten the nested \n",
        "Complete the function flatten() to flatten the given nested list and return the flattened list after sorting.\n",
        "\n",
        "Input Format: A nested list is taken as input.\n",
        "Output Format: A simple flat list is printed. \n",
        "\n",
        "Sample Input-Output:\n",
        "1. Input : [10,[40,20],30,50] \n",
        "   Output: [10, 20, 30, 40, 50]"
      ],
      "metadata": {
        "id": "ZS3TCzubBTLM"
      }
    },
    {
      "cell_type": "markdown",
      "source": [
        "### Solution(Way#1): One of the ways in which this problem can be attempted is as below (The Recursion Way) ----- To be Worked Upon!!!"
      ],
      "metadata": {
        "id": "jbM19RtSCIbC"
      }
    },
    {
      "cell_type": "code",
      "source": [
        "def flatten(arr):\n",
        "    '''\n",
        "    input:\n",
        "    arr -> given nested python list\n",
        "    \n",
        "    output:\n",
        "    res_arr -> the nested list, flattened and sorted\n",
        "    '''\n",
        "    res_arr = []\n",
        "    \n",
        "    # Your Code Starts here\n",
        "    \n",
        "    # Base condition\n",
        "    if len(arr) == 1 and isinstance(arr,list) == False:\n",
        "      return arr[0] \n",
        "\n",
        "    len_arr = len(arr)\n",
        "    flatten_array = []\n",
        "\n",
        "    for i in range(len_arr):\n",
        "      if isinstance(arr[i], list) == False:\n",
        "        flatten_array.append(arr[i])\n",
        "      else:\n",
        "        return_array = flatten(arr[i])\n",
        "        flatten_array.extend(return_array)\n",
        "    \n",
        "    res_arr = sorted(flatten_array)\n",
        "    # Your Code Ends here\n",
        "\n",
        "    return res_arr"
      ],
      "metadata": {
        "id": "-sVuHPEGDd3b"
      },
      "execution_count": 4,
      "outputs": []
    },
    {
      "cell_type": "code",
      "source": [
        "# Test cases:\n",
        "test_case_dict = {'1':{'ip' : [10,[40,20],30,50]\n",
        "                      ,'op' : [10, 20, 30, 40, 50]}\n",
        "                 ,'2':{'ip' : [10,[40,20],[30,50]]\n",
        "                       ,'op': [10,20,30,40,50]\n",
        "                       }\n",
        "                 ,'3':{'ip' : [10,[40,[20]],[30,50]]\n",
        "                       ,'op': [10,20,30,40,50]\n",
        "                       }\n",
        "                 ,'4':{'ip' : [10,[40,[[20]]],[30,50]]\n",
        "                       ,'op': [10,20,30,40,50]\n",
        "                       }\n",
        "                  }\n",
        "for key, value in test_case_dict.items():\n",
        "  assert flatten(value['ip']) == value['op'], f\"The test case# {key} has failed.\"\n",
        "\n",
        "print(f\"All {len(test_case_dict)} test cases have passed ...\")\n",
        "\n"
      ],
      "metadata": {
        "colab": {
          "base_uri": "https://localhost:8080/"
        },
        "id": "4vgaW3rtGdq3",
        "outputId": "e101a22f-5268-42b8-bf9b-ac4d78fb06d8"
      },
      "execution_count": 16,
      "outputs": [
        {
          "output_type": "stream",
          "name": "stdout",
          "text": [
            "All 4 test cases have passed ...\n"
          ]
        }
      ]
    },
    {
      "cell_type": "markdown",
      "source": [
        "### Solution(Way#2): This is the non - Recursion way  ----- To be Worked Upon!!!"
      ],
      "metadata": {
        "id": "eAjg1Q1jLYuc"
      }
    },
    {
      "cell_type": "code",
      "source": [
        "def flatten(arr):\n",
        "    '''\n",
        "    input:\n",
        "    arr -> given nested python list\n",
        "    \n",
        "    output:\n",
        "    res_arr -> the nested list, flattened and sorted\n",
        "    '''\n",
        "    res_arr = []\n",
        "    \n",
        "    # Your Code Starts here\n",
        "    \n",
        "    # Base condition\n",
        "    if len(arr) == 1 and isinstance(arr,list) == False:\n",
        "      return arr[0] \n",
        "\n",
        "    len_arr = len(arr)\n",
        "    flatten_array = []\n",
        "\n",
        "    for i in range(len_arr):\n",
        "      if isinstance(arr[i], list) == False:\n",
        "        flatten_array.append(arr[i])\n",
        "      else:\n",
        "        return_array = flatten(arr[i])\n",
        "        flatten_array.extend(return_array)\n",
        "    \n",
        "    res_arr = sorted(flatten_array)\n",
        "    # Your Code Ends here\n",
        "\n",
        "    return res_arr"
      ],
      "metadata": {
        "id": "C13lbO7cLmCf"
      },
      "execution_count": null,
      "outputs": []
    },
    {
      "cell_type": "markdown",
      "source": [
        "## **Q3. Sum of the Fibonacci Sequence\n",
        "Complete the sum_fibonacci function below, that should return the sum of first n numbers in the fibonacci sequence.\n",
        "The Fibonacci sequence, in which each number is the sum of the two preceding ones.\n",
        "e.g. 1, 1, 2, 3, 5, 8, 13, 21, 34, 55, 89, 144, ... (Here, we assume the Fibonacci sequence starts with 1).\n",
        "The sum of first 5 fibonacci numbers is 12.\n",
        "\n",
        "Input : n , the number of first n elements of the fibonacci series.\n",
        "\n",
        "Sample Input Output:\n",
        "1.   Input: 5 Output: 12\n",
        "\n"
      ],
      "metadata": {
        "id": "2X92-Af9T_lF"
      }
    },
    {
      "cell_type": "markdown",
      "source": [
        "### Solution(Way#1): Attempted the solution in the recursive fashion as below.\n",
        "Approach :  \n",
        "1.   The approach here is to first create a list of the sequence of fibonacci series uptil n elements, using recursion.\n",
        "2.   and then sum all the elements of the list. \n"
      ],
      "metadata": {
        "id": "0r5tj_IIVliN"
      }
    },
    {
      "cell_type": "code",
      "source": [
        "def fib_list(n):\n",
        "\n",
        "  if (n==1):\n",
        "    return [1]\n",
        "  if (n==2):\n",
        "    return [1,1]\n",
        "\n",
        "  output_list = fib_list(n-1)\n",
        "\n",
        "  if len(output_list) >=2:\n",
        "    output_list += [output_list[-1] + output_list[-2]] # List is maintaining the order of insertion.\n",
        "\n",
        "  return output_list\n",
        "  "
      ],
      "metadata": {
        "id": "_rr6TGJ6WSi0"
      },
      "execution_count": 1,
      "outputs": []
    },
    {
      "cell_type": "code",
      "source": [
        "fib_list(5)"
      ],
      "metadata": {
        "colab": {
          "base_uri": "https://localhost:8080/"
        },
        "id": "FGSvH278ifB3",
        "outputId": "e7b47fb3-2ce1-4696-853a-855e16662b30"
      },
      "execution_count": 2,
      "outputs": [
        {
          "output_type": "execute_result",
          "data": {
            "text/plain": [
              "[1, 1, 2, 3, 5]"
            ]
          },
          "metadata": {},
          "execution_count": 2
        }
      ]
    },
    {
      "cell_type": "code",
      "source": [
        "# Summing over all the elements of the fibonacci list.\n",
        "sum(fib_list(5))"
      ],
      "metadata": {
        "colab": {
          "base_uri": "https://localhost:8080/"
        },
        "id": "WlUqNq3TimpX",
        "outputId": "3eafad77-d010-4253-d900-1d712733b5fd"
      },
      "execution_count": 4,
      "outputs": [
        {
          "output_type": "execute_result",
          "data": {
            "text/plain": [
              "12"
            ]
          },
          "metadata": {},
          "execution_count": 4
        }
      ]
    },
    {
      "cell_type": "markdown",
      "source": [
        "### Solution(Way#2): Attempted the solution in the recursive fashion as below.\n",
        "Approach :  \n",
        "1.   Returning the sum of the fibonacci series itself through recursion only i.e. no need to call an explicit sum over the list of fibonacci as in the previous solution alternative."
      ],
      "metadata": {
        "id": "WsGE3NLNi0h4"
      }
    },
    {
      "cell_type": "code",
      "source": [
        "# Sum of fibonacci series through recursion."
      ],
      "metadata": {
        "id": "ehSP6ISei9lh"
      },
      "execution_count": 5,
      "outputs": []
    },
    {
      "cell_type": "markdown",
      "source": [
        "# **Q4. A pattern challenge to consolidate the understanding of the various lists."
      ],
      "metadata": {
        "id": "Fusbuz48LBXx"
      }
    },
    {
      "cell_type": "code",
      "execution_count": null,
      "metadata": {
        "id": "5S1Hz-6Ql1qF"
      },
      "outputs": [],
      "source": [
        "def a_new_pattern(odd_num):\n",
        "\n",
        "    # odd_num = 5\n",
        "    copy_fig_for_rest_half_list = []\n",
        "    list_prev = [odd_num]*odd_num\n",
        "    for i in range(0,(odd_num//2)+1):\n",
        "      # print(test[0:-odd_num+i], test[-odd_num+i:odd_num-i], test[-odd_num:i])\n",
        "      # list_new = list_prev[0:-odd_num+i] + [odd_num-i for k in list_prev[-odd_num+i:odd_num-i]] + list(reversed(list_prev[-1:-i-1:-1]))\n",
        "      # list_new = list_prev[0:-odd_num+i] + [odd_num-i for k in list_prev[-odd_num+i:odd_num-i]] + (list_prev[odd_num-1:(odd_num-1)-i:-1])\n",
        "      list_new = list_prev[0:-odd_num+i] + [odd_num-i for k in list_prev[-odd_num+i:odd_num-i]] + (list_prev[(odd_num)-i:])\n",
        "\n",
        "      copy_fig_for_rest_half_list.append(list_new)  \n",
        "      # print('list_new', list_new)\n",
        "      [print(x,end=' ') for x in list_new]\n",
        "      print('', end='\\n')\n",
        "\n",
        "      list_prev = list_new\n",
        "      # print('list_prev', list_prev)\n",
        "    inverted_second_half_list = list(reversed(copy_fig_for_rest_half_list[0:-1])) # excluding the last item as it is middle most , n not 2 b repeated.\n",
        "    for list_item in inverted_second_half_list:\n",
        "      [print(x,end=' ') for x in list_item]\n",
        "      print('')   \n",
        "      "
      ]
    },
    {
      "cell_type": "code",
      "source": [
        "a_new_pattern(5)"
      ],
      "metadata": {
        "colab": {
          "base_uri": "https://localhost:8080/"
        },
        "id": "QG0DwYofmEpC",
        "outputId": "fb09e65d-c7af-4e03-b324-38acaec6030d"
      },
      "execution_count": null,
      "outputs": [
        {
          "output_type": "stream",
          "name": "stdout",
          "text": [
            "5 5 5 5 5 \n",
            "5 4 4 4 5 \n",
            "5 4 3 4 5 \n",
            "5 4 4 4 5 \n",
            "5 5 5 5 5 \n"
          ]
        }
      ]
    },
    {
      "cell_type": "code",
      "source": [
        ""
      ],
      "metadata": {
        "id": "sBuYbRM2mMSY"
      },
      "execution_count": null,
      "outputs": []
    },
    {
      "cell_type": "markdown",
      "source": [
        "## Q5. Shift right\n",
        "Complete the function check_equal() to return whether the given two strings are the same or not if you are allowed to shift the first character of the second string and attach it to the end of the rightmost character and this can be repeated as many times as required.\n",
        "\n",
        "The function should return 'Same' if the two strings using the above-mentioned shifting operations are the same otherwise it should return 'Not Same'.\n",
        "\n",
        "Input: Two strings \n",
        "Sample Input Output:\n",
        "\n",
        "1.  Input: 'abcde', 'bcdea' Output: Same\n",
        "  \n",
        "*   Since here the characters of the second string are shifted to the rightmost end and eventually it is same as the first string; On shifting b, c, d, and e to the end of the 2nd string, we get abcde as the output, which is the same as the first string. Hence, Same is returned.\n",
        "\n"
      ],
      "metadata": {
        "id": "XXgX1zCfn04-"
      }
    },
    {
      "cell_type": "markdown",
      "source": [
        "### Solution(Way#1) : Attempted the solution as below.\n",
        "Approach:\n",
        "\n",
        "\n",
        "1.   Looping through the second string and moving the first character to the end\n",
        "2.   and comparing if it is equal to the first string.\n",
        "\n"
      ],
      "metadata": {
        "id": "IzGbwjcDx2qr"
      }
    },
    {
      "cell_type": "code",
      "source": [
        ""
      ],
      "metadata": {
        "id": "ZXGjudypx17S"
      },
      "execution_count": null,
      "outputs": []
    }
  ]
}